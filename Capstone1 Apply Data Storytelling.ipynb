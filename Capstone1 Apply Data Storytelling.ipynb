{
 "cells": [
  {
   "cell_type": "markdown",
   "metadata": {},
   "source": [
    "# Web Scraping Indeed.com for Key Web Developer Job Skills\n",
    "\n",
    "## Background:\n",
    "\n",
    "I'm currently a web designer working in West Palm Beach, Florida for a company that does a significant amount of e-commerce.\n",
    "\n",
    "I enjoy my job and (IMHO) I'm quite good at it. I've noticed though, that every time I spend maybe several hours on creatively designing a web page enhancement and then hand over my work to one of the developers, they spend far less time coding up __my work__ ... and they all make about twice what I do!\n",
    "\n",
    "So I've decided to enhance my skills and become a web developer. And, in case there isn't a job opening at my company, I'd like to learn the \"right\" skills for other nearby companies.\n",
    "\n",
    "### The problem is - What are the \"right\" skills?\n",
    "\n",
    "When I do a job search on Indeed, there are over one-hundred jobs within 25 miles of West Palm Beach. Obviously I'll need to learn HTML, CSS, and Javascript, but what about the dozens of other ones: jQuery, PHP, Angular, etc.?\n",
    "\n",
    "## The solution:\n",
    "\n",
    "When I told a friend of mine (who happens to be a Data Scientist) about my plans, he said he could write me a web scaper in Python (*will that be one of the skills?*) that would collect key terms from each job description on Indeed.com. All I had to provide was the web url for the initial search and it would \"crawl\" through the details.\n",
    "\n",
    "The steps are the following:\n",
    "* Decide what specific job(s) I'm looking for - web developer or programmer to start.\n",
    "* Make a list of all the skills I'm interested in - see the second function below.\n",
    "* Determine the geographical limits of my search - within 25 miles of West Palm Beach."
   ]
  },
  {
   "cell_type": "markdown",
   "metadata": {},
   "source": [
    "To run the scraper, I first need to load the following libraries and then define the two main functions: html_cleaner and web_skills_info (both below)."
   ]
  },
  {
   "cell_type": "code",
   "execution_count": 2,
   "metadata": {
    "collapsed": true
   },
   "outputs": [],
   "source": [
    "from bs4 import BeautifulSoup as soup # For HTML parsing\n",
    "from urllib.request import urlopen as uReq # Website connection\n",
    "import re # Regular expressions\n",
    "from time import sleep # To prevent overwhelming the server between connections\n",
    "from collections import Counter # Keep track of term counts\n",
    "from nltk.corpus import stopwords # Filter out stopwords, such as 'the', 'or', 'and'\n",
    "import pandas as pd # For converting results to a dataframe and bar chart plots\n",
    "%matplotlib inline"
   ]
  },
  {
   "cell_type": "code",
   "execution_count": 3,
   "metadata": {
    "collapsed": true
   },
   "outputs": [],
   "source": [
    "def html_cleaner(website):\n",
    "    '''\n",
    "    This function cleans the raw html so it's parsible.\n",
    "    Inputs: a URL to investigate\n",
    "    Outputs: list of cleaned text\n",
    "    '''\n",
    "    try:\n",
    "        site = uReq(website).read() # Connect to the job posting\n",
    "    except: \n",
    "        return   # In case the website is not found or connection problem\n",
    "    \n",
    "    soup_obj = soup(site, \"html.parser\") # Get the html from the site\n",
    "    \n",
    "    if len(soup_obj) == 0: # In parser lxml didn't work, try another one\n",
    "        soup_obj = soup(site, 'html5lib')\n",
    "        \n",
    "    for script in soup_obj([\"script\", \"style\"]):\n",
    "        script.extract() # Remove these two elements from the BS4 object\n",
    "        \n",
    "    text = soup_obj.get_text() # Get the text\n",
    "    \n",
    "    lines = (line.strip() for line in text.splitlines()) # break into lines\n",
    "    \n",
    "    chunks = (phrase.strip() for line in lines for phrase in line.split(\"  \")) # break multi-headlines into a line each\n",
    "    \n",
    "    text = ''.join(chunk for chunk in chunks if chunk).encode('utf-8') # Remove all blank lines and ends of line\n",
    "    \n",
    "    # Now clean out all of the unicode\n",
    "    try:\n",
    "        text = text.decode('unicode_escape').encode('ascii', 'ignore') # Need this as some websites aren't formatted\n",
    "    except:                                                            # in a way that this works, can occasionally throw\n",
    "        return                                                         # an exception\n",
    "    \n",
    "    text = re.sub(\"[^a-zA-Z+]\",\" \", str(text))  # Now get rid of any terms that aren't words \n",
    "    \n",
    "    text = text.lower().split()  # Go to lower case and split them apart\n",
    "    \n",
    "    #stop_words = set(stopwords.words(\"english\")) # Filter out any stop words\n",
    "    man_stopwords = {'ourselves', 'hers', 'between', 'yourself', 'but', 'again', 'there', 'about', 'once', 'during', 'out', 'very', \n",
    "             'having', 'with', 'they', 'own', 'an', 'be', 'some', 'for', 'do', 'its', 'yours', 'such', 'into', 'of', 'most', \n",
    "             'itself', 'other', 'off', 'is', 's', 'am', 'or', 'who', 'as', 'from', 'him', 'each', 'the', 'themselves', 'until', \n",
    "             'below', 'are', 'we', 'these', 'your', 'his', 'through', 'don', 'nor', 'me', 'were', 'her', 'more', 'himself', \n",
    "             'this', 'down', 'should', 'our', 'their', 'while', 'above', 'both', 'up', 'to', 'ours', 'had', 'she', 'all', 'no', \n",
    "             'when', 'at', 'any', 'before', 'them', 'same', 'and', 'been', 'have', 'in', 'will', 'on', 'does', 'yourselves', \n",
    "             'then', 'that', 'because', 'what', 'over', 'why', 'so', 'can', 'did', 'not', 'now', 'under', 'he', 'you', \n",
    "             'herself', 'has', 'just', 'where', 'too', 'only', 'myself', 'which', 'those', 'i', 'after', 'few', 'whom', \n",
    "             't', 'being', 'if', 'theirs', 'my', 'against', 'a', 'by', 'doing', 'it', 'how', 'further', 'was', 'here', 'than'}\n",
    "    text = [w for w in text if not w in man_stopwords]\n",
    "    \n",
    "    return list(set(text))\n",
    "    "
   ]
  },
  {
   "cell_type": "code",
   "execution_count": 6,
   "metadata": {
    "collapsed": true
   },
   "outputs": [],
   "source": [
    "def web_skills_info(url, city):\n",
    "    '''\n",
    "    This function will take a url for web development job postings\n",
    "    on Indeed.com. It will crawl all of the job postings and keep track of how many\n",
    "    use a preset list of typical web skills. The final percentage for each skill\n",
    "    is then displayed at the end of the collation. \n",
    "    \n",
    "    Input: Indeed first page url for web development search\n",
    "    \n",
    "    Output: A bar chart showing the most commonly desired skills in the job market for \n",
    "    a web developer. \n",
    "    '''\n",
    "    current_page = url\n",
    "    base_url = 'http://www.indeed.com'\n",
    "    try:\n",
    "        html = uReq(url).read() # Open up the front page of our search first\n",
    "    except:\n",
    "        'Url error - Exiting . . .'\n",
    "        return\n",
    "    page_obj = soup(html, \"html.parser\") # Get the html from the site\n",
    "    \n",
    "    num_jobs_area = page_obj.find(id = 'searchCount').string.encode('utf-8') # The total number of jobs found\n",
    "    job_numbers = re.findall('\\d+', str(num_jobs_area)) # Extract the total jobs found from the search result\n",
    "    total_num_jobs = int(job_numbers[-1])\n",
    "    print('There were', total_num_jobs, 'web jobs found within a 25 mi radius of ' + city + '.')\n",
    "    num_pages = int(total_num_jobs/10)\n",
    "    job_descriptions = [] # Store job descriptions in this list\n",
    "    \n",
    "    for i in range(1,num_pages+1): # Loop through search result pages (starting with the current one)\n",
    "        print('Getting page ' + str(i))\n",
    "        if i != 1:\n",
    "            #Get next job page\n",
    "            start_num = str(i*10) # Assign the multiplier of 10 to view the pages we want\n",
    "            current_page = ''.join([url, '&start=', start_num]) #Set the next page of 10 jobs\n",
    "            html_page = uReq(current_page).read() # Get the page\n",
    "            page_obj = soup(html_page, \"html.parser\")\n",
    "        job_link_area = page_obj.find(id = 'resultsCol') # Locate all of the links\n",
    "        all_links = [link.get('href') for link in job_link_area.find_all('a')]\n",
    "        all_links = [x for x in all_links if type(x) == type('')] # remove non-srings\n",
    "        job_links = [x for x in all_links if 'clk' in x] # Just job related links\n",
    "        \n",
    "        for j in range(0,len(job_links)):\n",
    "            final_description = html_cleaner(base_url + job_links[j])\n",
    "            if final_description: # So that we only append when the website was accessed correctly\n",
    "                job_descriptions.append(final_description)\n",
    "            sleep(1) #Slow down server hits\n",
    "        \n",
    "    print('Done with collecting the job postings!')    \n",
    "    print('There were', len(job_descriptions), 'jobs successfully found.')\n",
    "    \n",
    "    doc_frequency = Counter() # This will create a full counter of our terms. \n",
    "    [doc_frequency.update(item) for item in job_descriptions] # List comp\n",
    "    \n",
    "    #key term dicts\n",
    "    prog_lang_dict = Counter({'Javascript':doc_frequency['javascript'], 'Python':doc_frequency['python'],\n",
    "                    'Java':doc_frequency['java'], 'C++':doc_frequency['c++'],\n",
    "                   'Ruby':doc_frequency['ruby'], 'PHP':doc_frequency['php'],\n",
    "                  'CSS':doc_frequency['css'], 'HTML':doc_frequency['html'],\n",
    "                  'JQuery':doc_frequency['jquery'], 'Angular': doc_frequency['angular']})\n",
    "    os_dict = Counter({'Linux':doc_frequency['linux'],  'Android':doc_frequency['android'],\n",
    "                      'iOS':doc_frequency['ios'], 'Windows':doc_frequency['windows'],\n",
    "                      'Cloud':doc_frequency['cloud'], 'Mobile':doc_frequency['mobile'],\n",
    "                      'Fullstack':doc_frequency['fullstack']})\n",
    "    framework_dict = Counter({'BootStrap':doc_frequency['bootstrap'],  'Wordpress':doc_frequency['wordpress'],\n",
    "                      'Node':doc_frequency['node'], 'Django':doc_frequency['django']})\n",
    "    database_dict = Counter({'SQL':doc_frequency['sql'], 'NoSQL':doc_frequency['nosql'],\n",
    "                 'Excel':doc_frequency['excel'], 'MySql':doc_frequency['mysql'],\n",
    "                 'MongoDB':doc_frequency['mongodb']})\n",
    "    overall_total_skills = prog_lang_dict + os_dict + framework_dict + database_dict # Combine our Counter objects\n",
    "    \n",
    "    final_frame = pd.DataFrame.from_dict(overall_total_skills, orient='index').reset_index()\n",
    "    final_frame = final_frame.rename(columns={'index':'Term', 0:'NumPostings'})\n",
    "    final_frame.sort_values('NumPostings', ascending = False, inplace = True)\n",
    "    final_frame.NumPostings = (final_frame.NumPostings)*100/len(job_descriptions) # Gives percentage of job postings\n",
    "    final_plot = final_frame.plot(x = 'Term', kind = 'bar', legend = None, \n",
    "                              title = 'Percentage of Web Developer Job Ads with a Key Skill')\n",
    "    final_plot.set_ylabel('Percentage Appearing in Job Ads')\n",
    "    fig = final_plot.get_figure() # Have to convert the pandas plot object to a matplotlib object\n",
    "    \n",
    "    return fig, final_frame"
   ]
  },
  {
   "cell_type": "markdown",
   "metadata": {},
   "source": [
    "My first search will be within 25 miles of West Palm Beach."
   ]
  },
  {
   "cell_type": "code",
   "execution_count": 7,
   "metadata": {},
   "outputs": [
    {
     "name": "stdout",
     "output_type": "stream",
     "text": [
      "There were 137 web jobs found within a 25 mi radius of West Palm Beach.\n",
      "Getting page 1\n",
      "Getting page 2\n",
      "Getting page 3\n",
      "Getting page 4\n",
      "Getting page 5\n",
      "Getting page 6\n",
      "Getting page 7\n",
      "Getting page 8\n",
      "Getting page 9\n",
      "Getting page 10\n",
      "Getting page 11\n",
      "Getting page 12\n",
      "Getting page 13\n",
      "Done with collecting the job postings!\n",
      "There were 120 jobs successfully found.\n"
     ]
    },
    {
     "data": {
      "text/plain": [
       "(<matplotlib.figure.Figure at 0x9e8ca850b8>,           Term  NumPostings\n",
       " 21         SQL    40.000000\n",
       " 2         Java    39.166667\n",
       " 7         HTML    30.000000\n",
       " 0   Javascript    25.833333\n",
       " 6          CSS    24.166667\n",
       " 8       JQuery    21.666667\n",
       " 14       Cloud    20.000000\n",
       " 15      Mobile    17.500000\n",
       " 13     Windows    15.833333\n",
       " 24       MySql    15.833333\n",
       " 10       Linux    10.833333\n",
       " 5          PHP    10.833333\n",
       " 23       Excel     9.166667\n",
       " 9      Angular     7.500000\n",
       " 11     Android     5.833333\n",
       " 1       Python     5.833333\n",
       " 18   Wordpress     5.000000\n",
       " 19        Node     5.000000\n",
       " 3          C++     4.166667\n",
       " 12         iOS     4.166667\n",
       " 17   BootStrap     3.333333\n",
       " 4         Ruby     1.666667\n",
       " 16   Fullstack     1.666667\n",
       " 20      Django     1.666667\n",
       " 22       NoSQL     1.666667)"
      ]
     },
     "execution_count": 7,
     "metadata": {},
     "output_type": "execute_result"
    },
    {
     "data": {
      "image/png": "[encoded data removed]",
      "text/plain": [
       "<matplotlib.figure.Figure at 0x9e8ca850b8>"
      ]
     },
     "metadata": {},
     "output_type": "display_data"
    }
   ],
   "source": [
    "web_site = 'https://www.indeed.com/jobs?q=web+%28developer+or+programmer%29&l=West+Palm+Beach%2C+FL&radius=25'\n",
    "web_skills_info(web_site, 'West Palm Beach')"
   ]
  },
  {
   "cell_type": "markdown",
   "metadata": {},
   "source": [
    "Well, the took about 10 minutes to run, but it sure was much faster than trying to review every job description by hand.\n",
    "\n",
    "No surprise that HTML, CSS, and Javascript are in the top ten. But I didn't expect SQL and Java to be the top two. Even though Mobile is high, both iOS and Android are low, so I'll need to focus on hybrid development rather than one or both of them. I expected Linux to be higher than Windows and I thought Python and Wordpress would be higher.\n",
    "\n",
    "Next I'll try a search for a low-tech city about an hour north of me, Stuart."
   ]
  },
  {
   "cell_type": "code",
   "execution_count": 8,
   "metadata": {},
   "outputs": [
    {
     "name": "stdout",
     "output_type": "stream",
     "text": [
      "There were 17 web jobs found within a 25 mi radius of Stuart.\n",
      "Getting page 1\n",
      "Done with collecting the job postings!\n",
      "There were 9 jobs successfully found.\n"
     ]
    },
    {
     "data": {
      "text/plain": [
       "(<matplotlib.figure.Figure at 0x9e8cbedc50>,           Term  NumPostings\n",
       " 14         SQL    66.666667\n",
       " 4          CSS    55.555556\n",
       " 5         HTML    44.444444\n",
       " 3          PHP    33.333333\n",
       " 6       JQuery    33.333333\n",
       " 1         Java    33.333333\n",
       " 0   Javascript    22.222222\n",
       " 15       Excel    22.222222\n",
       " 13   Wordpress    22.222222\n",
       " 10       Cloud    22.222222\n",
       " 11      Mobile    22.222222\n",
       " 12   BootStrap    11.111111\n",
       " 8        Linux    11.111111\n",
       " 9      Android    11.111111\n",
       " 7      Angular    11.111111\n",
       " 2         Ruby    11.111111\n",
       " 16       MySql    11.111111)"
      ]
     },
     "execution_count": 8,
     "metadata": {},
     "output_type": "execute_result"
    },
    {
     "data": {
      "image/png": "[encoded data removed]",
      "text/plain": [
       "<matplotlib.figure.Figure at 0x9e8cbedc50>"
      ]
     },
     "metadata": {},
     "output_type": "display_data"
    }
   ],
   "source": [
    "web_site = 'https://www.indeed.com/jobs?q=web+%28developer+or+programmer%29&l=Stuart%2C+FL&radius=25'\n",
    "web_skills_info(web_site, 'Stuart')"
   ]
  },
  {
   "cell_type": "markdown",
   "metadata": {},
   "source": [
    "No surprises there - that only took a couple minutes to run, but SQL was still at the top.\n",
    "\n",
    "Next I'll try Boca Raton which is high-tech and about 1/2 hour south (perhaps I could work remotely or maybe relocate). There will be some overlap, but I'd like to see if the trends are the same."
   ]
  },
  {
   "cell_type": "code",
   "execution_count": 9,
   "metadata": {},
   "outputs": [
    {
     "name": "stdout",
     "output_type": "stream",
     "text": [
      "There were 262 web jobs found within a 25 mi radius of Boca Raton.\n",
      "Getting page 1\n",
      "Getting page 2\n",
      "Getting page 3\n",
      "Getting page 4\n",
      "Getting page 5\n",
      "Getting page 6\n",
      "Getting page 7\n",
      "Getting page 8\n",
      "Getting page 9\n",
      "Getting page 10\n",
      "Getting page 11\n",
      "Getting page 12\n",
      "Getting page 13\n",
      "Getting page 14\n",
      "Getting page 15\n",
      "Getting page 16\n",
      "Getting page 17\n",
      "Getting page 18\n",
      "Getting page 19\n",
      "Getting page 20\n",
      "Getting page 21\n",
      "Getting page 22\n",
      "Getting page 23\n",
      "Getting page 24\n",
      "Getting page 25\n",
      "Getting page 26\n",
      "Done with collecting the job postings!\n",
      "There were 210 jobs successfully found.\n"
     ]
    },
    {
     "data": {
      "text/plain": [
       "(<matplotlib.figure.Figure at 0x9e8d4774e0>,           Term  NumPostings\n",
       " 20         SQL    28.571429\n",
       " 7         HTML    24.761905\n",
       " 0   Javascript    24.285714\n",
       " 2         Java    23.333333\n",
       " 6          CSS    23.333333\n",
       " 15      Mobile    18.571429\n",
       " 8       JQuery    15.238095\n",
       " 13     Windows    14.761905\n",
       " 14       Cloud    13.333333\n",
       " 9      Angular    12.857143\n",
       " 5          PHP    12.857143\n",
       " 23       MySql    10.476190\n",
       " 10       Linux    10.000000\n",
       " 18        Node     9.523810\n",
       " 1       Python     8.095238\n",
       " 17   Wordpress     6.666667\n",
       " 16   BootStrap     5.714286\n",
       " 22       Excel     5.238095\n",
       " 24     MongoDB     4.761905\n",
       " 21       NoSQL     4.285714\n",
       " 4         Ruby     3.809524\n",
       " 3          C++     3.333333\n",
       " 11     Android     1.904762\n",
       " 12         iOS     1.428571\n",
       " 19      Django     0.476190)"
      ]
     },
     "execution_count": 9,
     "metadata": {},
     "output_type": "execute_result"
    },
    {
     "data": {
      "image/png": "[encoded data removed]",
      "text/plain": [
       "<matplotlib.figure.Figure at 0x9e8d4774e0>"
      ]
     },
     "metadata": {},
     "output_type": "display_data"
    }
   ],
   "source": [
    "web_site = 'https://www.indeed.com/jobs?q=web+%28developer+or+programmer%29&l=Boca+Raton%2C+FL&radius=25'\n",
    "web_skills_info(web_site, 'Boca Raton')"
   ]
  },
  {
   "cell_type": "markdown",
   "metadata": {},
   "source": [
    "That took about 15 minutes to run and there were only minor differenes between West Palm Beach and Boca Raton.\n",
    "\n",
    "## Summary:\n",
    "In addition to the three core skills of HTML, CSS, and Javascript, I'll also have to focus on Java and SQL.\n",
    "\n",
    "I'll include the next six or seven skills down to, but not including, Python."
   ]
  }
 ],
 "metadata": {
  "kernelspec": {
   "display_name": "Python 3",
   "language": "python",
   "name": "python3"
  },
  "language_info": {
   "codemirror_mode": {
    "name": "ipython",
    "version": 3
   },
   "file_extension": ".py",
   "mimetype": "text/x-python",
   "name": "python",
   "nbconvert_exporter": "python",
   "pygments_lexer": "ipython3",
   "version": "3.6.1"
  }
 },
 "nbformat": 4,
 "nbformat_minor": 2
}
