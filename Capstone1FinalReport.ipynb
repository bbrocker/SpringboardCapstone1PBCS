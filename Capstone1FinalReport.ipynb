{
 "cells": [
  {
   "cell_type": "markdown",
   "metadata": {},
   "source": [
    "# Web Scraping Indeed.com for Key Web Developer Job Skills\n",
    "\n",
    "## The problem is - What are the \"right\" skills?\n",
    "\n",
    "Which web development skills should an aspiring web developer learn to be hired in Palm Beach County, Florida?\n",
    "\n",
    "## The client:\n",
    "\n",
    "Palm Beach Code School (PBCS) in Palm Beach Gardens, FL. - palmbeachcodeschool.com .\n",
    "\n",
    "## The data set:\n",
    "\n",
    "The data set starts with a list of the target skills that are included in a particular want ad scraped from Indeed.com. Then each of those lists is combined into a totals lists of the number of ads containing each skill.\n",
    "\n",
    "## Other potential data sets:\n",
    "\n",
    "We could do a trend analysis by comparing results over several months or compare Palm Beach County's results with other Forida or US locations.\n",
    "\n",
    "The steps as follows:\n",
    "* Decide what specific job(s) to be searched - web developer or programmer to start.\n",
    "* Make a list of all the skills - see the second function below.\n",
    "* Determine the geographical limits of the search - within 25 miles of West Palm Beach."
   ]
  },
  {
   "cell_type": "markdown",
   "metadata": {},
   "source": [
    "To run the scraper, load the following libraries and then define the two main functions: html_cleaner and web_skills_info (both below)."
   ]
  },
  {
   "cell_type": "code",
   "execution_count": 2,
   "metadata": {
    "collapsed": true
   },
   "outputs": [],
   "source": [
    "from bs4 import BeautifulSoup as soup # For HTML parsing\n",
    "from urllib.request import urlopen as uReq # Website connection\n",
    "import re # Regular expressions\n",
    "from time import sleep # To prevent overwhelming the server between connections\n",
    "from collections import Counter # Keep track of term counts\n",
    "from nltk.corpus import stopwords # Filter out stopwords, such as 'the', 'or', 'and'\n",
    "import pandas as pd # For converting results to a dataframe and bar chart plots\n",
    "%matplotlib inline"
   ]
  },
  {
   "cell_type": "code",
   "execution_count": 3,
   "metadata": {
    "collapsed": true
   },
   "outputs": [],
   "source": [
    "def html_cleaner(website):\n",
    "    '''\n",
    "    This function cleans the raw html so it's parsible.\n",
    "    Inputs: a URL to investigate\n",
    "    Outputs: list of cleaned text\n",
    "    '''\n",
    "    try:\n",
    "        site = uReq(website).read() # Connect to the job posting\n",
    "    except: \n",
    "        return   # In case the website is not found or connection problem\n",
    "    \n",
    "    soup_obj = soup(site, \"html.parser\") # Get the html from the site\n",
    "    \n",
    "    if len(soup_obj) == 0: # In parser lxml didn't work, try another one\n",
    "        soup_obj = soup(site, 'html5lib')\n",
    "        \n",
    "    for script in soup_obj([\"script\", \"style\"]):\n",
    "        script.extract() # Remove these two elements from the BS4 object\n",
    "        \n",
    "    text = soup_obj.get_text() # Get the text\n",
    "    \n",
    "    lines = (line.strip() for line in text.splitlines()) # break into lines\n",
    "    \n",
    "    chunks = (phrase.strip() for line in lines for phrase in line.split(\"  \")) \n",
    "    \n",
    "    text = ''.join(chunk for chunk in chunks if chunk).encode('utf-8') #remove blank lines\n",
    "    \n",
    "    # Now clean out all of the unicode\n",
    "    try:\n",
    "        text = text.decode('unicode_escape').encode('ascii', 'ignore')\n",
    "    except:                                                            \n",
    "        return                                                         \n",
    "    \n",
    "    text = re.sub(\"[^a-zA-Z+]\",\" \", str(text))  # Now get rid of any terms that aren't words \n",
    "    \n",
    "    text = text.lower().split()  # Go to lower case and split them apart\n",
    "    \n",
    "    #stop_words = set(stopwords.words(\"english\")) # Filter out any stop words\n",
    "    man_stopwords = {'ourselves', 'hers', 'between', 'yourself', 'but', 'again', 'there', 'about', \n",
    "            'once', 'during', 'out', 'very', 'having', 'with', 'they', 'own', 'an', 'be', 'some', \n",
    "            'for', 'do', 'its', 'yours', 'such', 'into', 'of', 'most', 'itself', 'other', 'off', \n",
    "            'is', 's', 'am', 'or', 'who', 'as', 'from', 'him', 'each', 'the', 'themselves', 'until', \n",
    "            'below', 'are', 'we', 'these', 'your', 'his', 'through', 'don', 'nor', 'me', 'were', \n",
    "            'her', 'more', 'himself', 'this', 'down', 'should', 'our', 'their', 'while', 'above', \n",
    "            'both', 'up', 'to', 'ours', 'had', 'she', 'all', 'no', 'when', 'at', 'any', 'before', \n",
    "            'them', 'same', 'and', 'been', 'have', 'in', 'will', 'on', 'does', 'yourselves', \n",
    "            'then', 'that', 'because', 'what', 'over', 'why', 'so', 'can', 'did', 'not', 'now', \n",
    "            'under', 'he', 'you', 'herself', 'has', 'just', 'where', 'too', 'only', 'myself', \n",
    "            'which', 'those', 'i', 'after', 'few', 'whom', 't', 'being', 'if', 'theirs', 'my', \n",
    "            'against', 'a', 'by', 'doing', 'it', 'how', 'further', 'was', 'here', 'than'}\n",
    "    text = [w for w in text if not w in man_stopwords]\n",
    "    \n",
    "    return list(set(text))\n",
    "    "
   ]
  },
  {
   "cell_type": "code",
   "execution_count": 6,
   "metadata": {
    "collapsed": true
   },
   "outputs": [],
   "source": [
    "def web_skills_info(url, city):\n",
    "    '''\n",
    "    This function will take a url for web development job postings\n",
    "    on Indeed.com. It will crawl all of the job postings and keep track of how many\n",
    "    use a preset list of typical web skills. The final percentage for each skill\n",
    "    is then displayed at the end of the collation. \n",
    "    \n",
    "    Input: Indeed first page url for web development search\n",
    "    \n",
    "    Output: A bar chart showing the most commonly desired skills in the job market for \n",
    "    a web developer. \n",
    "    '''\n",
    "    current_page = url\n",
    "    base_url = 'http://www.indeed.com'\n",
    "    try:\n",
    "        html = uReq(url).read() # Open up the front page of our search first\n",
    "    except:\n",
    "        'Url error - Exiting . . .'\n",
    "        return\n",
    "    page_obj = soup(html, \"html.parser\") # Get the html from the site\n",
    "    \n",
    "    num_jobs_area = page_obj.find(id = 'searchCount').string.encode('utf-8') # The total number of jobs found\n",
    "    job_numbers = re.findall('\\d+', str(num_jobs_area)) # Extract the total jobs found from the search result\n",
    "    total_num_jobs = int(job_numbers[-1])\n",
    "    print('There were', total_num_jobs, 'web jobs found within a 25 mi radius of ' + city + '.')\n",
    "    num_pages = int(total_num_jobs/10)\n",
    "    job_descriptions = [] # Store job descriptions in this list\n",
    "    \n",
    "    for i in range(1,num_pages+1): # Loop through search result pages (starting with the current one)\n",
    "        print('Getting page ' + str(i))\n",
    "        if i != 1:\n",
    "            #Get next job page\n",
    "            start_num = str(i*10) # Assign the multiplier of 10 to view the pages we want\n",
    "            current_page = ''.join([url, '&start=', start_num]) #Set the next page of 10 jobs\n",
    "            html_page = uReq(current_page).read() # Get the page\n",
    "            page_obj = soup(html_page, \"html.parser\")\n",
    "        job_link_area = page_obj.find(id = 'resultsCol') # Locate all of the links\n",
    "        all_links = [link.get('href') for link in job_link_area.find_all('a')]\n",
    "        all_links = [x for x in all_links if type(x) == type('')] # remove non-srings\n",
    "        job_links = [x for x in all_links if 'clk' in x] # Just job related links\n",
    "        \n",
    "        for j in range(0,len(job_links)):\n",
    "            final_description = html_cleaner(base_url + job_links[j])\n",
    "            if final_description: # So that we only append when the website was accessed correctly\n",
    "                job_descriptions.append(final_description)\n",
    "            sleep(1) #Slow down server hits\n",
    "        \n",
    "    print('Done with collecting the job postings!')    \n",
    "    print('There were', len(job_descriptions), 'jobs successfully found.')\n",
    "    \n",
    "    doc_frequency = Counter() # This will create a full counter of our terms. \n",
    "    [doc_frequency.update(item) for item in job_descriptions] # List comp\n",
    "    \n",
    "    #key term dicts\n",
    "    prog_lang_dict = Counter({'Javas':doc_frequency['java'], 'Python':doc_frequency['python'],\n",
    "                    'Javascrip':doc_frequency['javascript'], 'C++':doc_frequency['c++'],\n",
    "                   'Ruby':doc_frequency['ruby'], 'PHP':doc_frequency['php'],\n",
    "                  'CSS':doc_frequency['css'], 'HTML':doc_frequency['html'],\n",
    "                  'JQuery':doc_frequency['jquery'], 'Angular': doc_frequency['angular']})\n",
    "    os_dict = Counter({'Linux':doc_frequency['linux'],  'Android':doc_frequency['android'],\n",
    "                      'iOS':doc_frequency['ios'], 'Windows':doc_frequency['windows'],\n",
    "                      'Cloud':doc_frequency['cloud'], 'Mobile':doc_frequency['mobile'],\n",
    "                      'Fullstack':doc_frequency['fullstack']})\n",
    "    framework_dict = Counter({'BootStrap':doc_frequency['bootstrap'], 'Node':doc_frequency['node'],\n",
    "                      'Wordpress':doc_frequency['wordpress'], 'Django':doc_frequency['django']})\n",
    "    database_dict = Counter({'SQL':doc_frequency['sql'], 'NoSQL':doc_frequency['nosql'],\n",
    "                 'Excel':doc_frequency['excel'], 'MySql':doc_frequency['mysql'],\n",
    "                 'MongoDB':doc_frequency['mongodb']})\n",
    "    overall_total_skills = prog_lang_dict + os_dict + framework_dict + database_dict # Combine \n",
    "    \n",
    "    final_frame = pd.DataFrame.from_dict(overall_total_skills, orient='index').reset_index()\n",
    "    final_frame = final_frame.rename(columns={'index':'Term', 0:'NumPostings'})\n",
    "    final_frame.sort_values('NumPostings', ascending = False, inplace = True)\n",
    "    final_frame.NumPostings = (final_frame.NumPostings)*100/len(job_descriptions) # Percentages\n",
    "    final_plot = final_frame.plot(x = 'Term', kind = 'bar', legend = None, \n",
    "                              title = 'Percentage of Web Developer Job Ads with a Key Skill')\n",
    "    final_plot.set_ylabel('Percentage Appearing in Job Ads')\n",
    "    fig = final_plot.get_figure() # Have to convert the pandas plot object to a matplotlib object\n",
    "    \n",
    "    return fig, final_frame"
   ]
  },
  {
   "cell_type": "markdown",
   "metadata": {},
   "source": [
    "The search within 25 miles of West Palm Beach:"
   ]
  },
  {
   "cell_type": "code",
   "execution_count": 7,
   "metadata": {},
   "outputs": [
    {
     "name": "stdout",
     "output_type": "stream",
     "text": [
      "There were 137 web jobs found within a 25 mi radius of West Palm Beach.\n",
      "Getting page 1\n",
      "Getting page 2\n",
      "Getting page 3\n",
      "Getting page 4\n",
      "Getting page 5\n",
      "Getting page 6\n",
      "Getting page 7\n",
      "Getting page 8\n",
      "Getting page 9\n",
      "Getting page 10\n",
      "Getting page 11\n",
      "Getting page 12\n",
      "Getting page 13\n",
      "Done with collecting the job postings!\n",
      "There were 120 jobs successfully found.\n"
     ]
    },
    {
     "data": {
      "text/plain": [
       "(<matplotlib.figure.Figure at 0x9e8ca850b8>,           Term  NumPostings\n",
       " 21         SQL    40.000000\n",
       " 2         Java    39.166667\n",
       " 7         HTML    30.000000\n",
       " 0   Javascript    25.833333\n",
       " 6          CSS    24.166667\n",
       " 8       JQuery    21.666667\n",
       " 14       Cloud    20.000000\n",
       " 15      Mobile    17.500000\n",
       " 13     Windows    15.833333\n",
       " 24       MySql    15.833333\n",
       " 10       Linux    10.833333\n",
       " 5          PHP    10.833333\n",
       " 23       Excel     9.166667\n",
       " 9      Angular     7.500000\n",
       " 11     Android     5.833333\n",
       " 1       Python     5.833333\n",
       " 18   Wordpress     5.000000\n",
       " 19        Node     5.000000\n",
       " 3          C++     4.166667\n",
       " 12         iOS     4.166667\n",
       " 17   BootStrap     3.333333\n",
       " 4         Ruby     1.666667\n",
       " 16   Fullstack     1.666667\n",
       " 20      Django     1.666667\n",
       " 22       NoSQL     1.666667)"
      ]
     },
     "execution_count": 7,
     "metadata": {},
     "output_type": "execute_result"
    },
    {
     "data": {
      "image/png": "[encoded data removed]",
      "text/plain": [
       "<matplotlib.figure.Figure at 0x9e8ca850b8>"
      ]
     },
     "metadata": {},
     "output_type": "display_data"
    }
   ],
   "source": [
    "web_site = 'https://www.indeed.com/jobs?q=web+%28developer+or+programmer%29&l=West+Palm+Beach%2C+FL&radius=25'\n",
    "web_skills_info(web_site, 'West Palm Beach')"
   ]
  },
  {
   "cell_type": "markdown",
   "metadata": {},
   "source": [
    "## Summary:\n",
    "\n",
    "No surprise that HTML, CSS, and Javascript are in the top ten. But we didn't expect SQL and Java to be the top two. Even though Mobile is high, both iOS and Android are low, so we'll need to focus on hybrid development rather than one or both of them. We expected Linux to be higher than Windows and we thought Python and Wordpress would be higher.\n",
    "\n",
    "In addition to the three core skills of HTML, CSS, and Javascript, we'll also have to focus on Java and SQL.\n",
    "\n",
    "We should also include the next six or seven skills perhaps down to, but not including, Python."
   ]
  }
 ],
 "metadata": {
  "kernelspec": {
   "display_name": "Python 3",
   "language": "python",
   "name": "python3"
  },
  "language_info": {
   "codemirror_mode": {
    "name": "ipython",
    "version": 3
   },
   "file_extension": ".py",
   "mimetype": "text/x-python",
   "name": "python",
   "nbconvert_exporter": "python",
   "pygments_lexer": "ipython3",
   "version": "3.6.1"
  }
 },
 "nbformat": 4,
 "nbformat_minor": 2
}
